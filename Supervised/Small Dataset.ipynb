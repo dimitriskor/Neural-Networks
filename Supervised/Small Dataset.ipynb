{
  "nbformat": 4,
  "nbformat_minor": 0,
  "metadata": {
    "colab": {
      "name": "Copy of Excercise1",
      "provenance": [],
      "collapsed_sections": [
        "MikS7MXLsf-G"
      ],
      "toc_visible": true
    },
    "kernelspec": {
      "name": "python3",
      "display_name": "Python 3"
    }
  },
  "cells": [
    {
      "cell_type": "markdown",
      "metadata": {
        "id": "MikS7MXLsf-G"
      },
      "source": [
        "#Στοιχεία ομάδας\n",
        "\n",
        "\n",
        "###Αριθμός ομάδας: 43 \n",
        "Datasets: S05, B05\n",
        "\n",
        "###Μέλη:\n",
        "Επίθετο | Όνομα | Α.Μ.\n",
        "---|---|---\n",
        "Κορακοβούνης|Δημήτριος|03116692\n",
        "Αναγνωστόπουλος|Θεόδωρος|03116066\n",
        "||03115087\n",
        "\n"
      ]
    },
    {
      "cell_type": "markdown",
      "metadata": {
        "id": "Pp_U5vdpwKus"
      },
      "source": [
        "#Μικρό Dataset(S05)"
      ]
    },
    {
      "cell_type": "markdown",
      "metadata": {
        "id": "-1G4eogsa3Bz"
      },
      "source": [
        "###Βασικές πληροφορίες"
      ]
    },
    {
      "cell_type": "markdown",
      "metadata": {
        "id": "QoRizwPpsiw9"
      },
      "source": [
        "1. Το dataset HCC Survival αποκτήθηκε σε πανεπιστημιακό νοσοκομείο της Πορτογαλίας και περιλαμβάνει πολλά δημογραφικά στοιχεία, παράγοντες κινδύνου, εργαστηριακά και συνολικά χαρακτηριστικά επιβίωσης 165 πραγματικών ασθενών που διαγνώστηκαν με HCC(hepatocellular carcinoma - ηπατοκυτταρικό καρκίνωμα)."
      ]
    },
    {
      "cell_type": "markdown",
      "metadata": {
        "id": "-5EBSlcMz6Nx"
      },
      "source": [
        "Φορτώνουμε το Dataset ώστε να μπορούύμε να το επεξεργαστούμε"
      ]
    },
    {
      "cell_type": "code",
      "metadata": {
        "colab": {
          "base_uri": "https://localhost:8080/"
        },
        "id": "afeLcMCRsTEH",
        "outputId": "257fc9fa-b695-4d65-8b97-c52b472a7c02"
      },
      "source": [
        "#Load up-todate libraries\n",
        "\n",
        "!pip install --upgrade pip #upgrade pip package installer\n",
        "!pip install scikit-learn --upgrade #upgrade scikit-learn package\n",
        "!pip install numpy --upgrade #upgrade numpy package\n",
        "!pip install pandas --upgrade #--upgrade #upgrade pandas package\n",
        "!pip install --upgrade matplotlib\n",
        "!pip install -U imbalanced-learn"
      ],
      "execution_count": null,
      "outputs": [
        {
          "output_type": "stream",
          "text": [
            "Requirement already satisfied: pip in /usr/local/lib/python3.6/dist-packages (20.3.1)\n",
            "Requirement already satisfied: scikit-learn in /usr/local/lib/python3.6/dist-packages (0.23.2)\n",
            "Requirement already satisfied: joblib>=0.11 in /usr/local/lib/python3.6/dist-packages (from scikit-learn) (0.17.0)\n",
            "Requirement already satisfied: numpy>=1.13.3 in /usr/local/lib/python3.6/dist-packages (from scikit-learn) (1.19.4)\n",
            "Requirement already satisfied: scipy>=0.19.1 in /usr/local/lib/python3.6/dist-packages (from scikit-learn) (1.4.1)\n",
            "Requirement already satisfied: threadpoolctl>=2.0.0 in /usr/local/lib/python3.6/dist-packages (from scikit-learn) (2.1.0)\n",
            "Requirement already satisfied: numpy>=1.13.3 in /usr/local/lib/python3.6/dist-packages (from scikit-learn) (1.19.4)\n",
            "Requirement already satisfied: numpy in /usr/local/lib/python3.6/dist-packages (1.19.4)\n",
            "Requirement already satisfied: pandas in /usr/local/lib/python3.6/dist-packages (1.1.5)\n",
            "Requirement already satisfied: python-dateutil>=2.7.3 in /usr/local/lib/python3.6/dist-packages (from pandas) (2.8.1)\n",
            "Requirement already satisfied: pytz>=2017.2 in /usr/local/lib/python3.6/dist-packages (from pandas) (2018.9)\n",
            "Requirement already satisfied: numpy>=1.15.4 in /usr/local/lib/python3.6/dist-packages (from pandas) (1.19.4)\n",
            "Requirement already satisfied: six>=1.5 in /usr/local/lib/python3.6/dist-packages (from python-dateutil>=2.7.3->pandas) (1.15.0)\n",
            "Requirement already satisfied: matplotlib in /usr/local/lib/python3.6/dist-packages (3.3.3)\n",
            "Requirement already satisfied: numpy>=1.15 in /usr/local/lib/python3.6/dist-packages (from matplotlib) (1.19.4)\n",
            "Requirement already satisfied: python-dateutil>=2.1 in /usr/local/lib/python3.6/dist-packages (from matplotlib) (2.8.1)\n",
            "Requirement already satisfied: kiwisolver>=1.0.1 in /usr/local/lib/python3.6/dist-packages (from matplotlib) (1.3.1)\n",
            "Requirement already satisfied: pillow>=6.2.0 in /usr/local/lib/python3.6/dist-packages (from matplotlib) (7.0.0)\n",
            "Requirement already satisfied: cycler>=0.10 in /usr/local/lib/python3.6/dist-packages (from matplotlib) (0.10.0)\n",
            "Requirement already satisfied: pyparsing!=2.0.4,!=2.1.2,!=2.1.6,>=2.0.3 in /usr/local/lib/python3.6/dist-packages (from matplotlib) (2.4.7)\n",
            "Requirement already satisfied: six in /usr/local/lib/python3.6/dist-packages (from cycler>=0.10->matplotlib) (1.15.0)\n",
            "Requirement already satisfied: six in /usr/local/lib/python3.6/dist-packages (from cycler>=0.10->matplotlib) (1.15.0)\n",
            "Requirement already satisfied: imbalanced-learn in /usr/local/lib/python3.6/dist-packages (0.7.0)\n",
            "Requirement already satisfied: scipy>=0.19.1 in /usr/local/lib/python3.6/dist-packages (from imbalanced-learn) (1.4.1)\n",
            "Requirement already satisfied: numpy>=1.13.3 in /usr/local/lib/python3.6/dist-packages (from imbalanced-learn) (1.19.4)\n",
            "Requirement already satisfied: joblib>=0.11 in /usr/local/lib/python3.6/dist-packages (from imbalanced-learn) (0.17.0)\n",
            "Requirement already satisfied: scikit-learn>=0.23 in /usr/local/lib/python3.6/dist-packages (from imbalanced-learn) (0.23.2)\n",
            "Requirement already satisfied: threadpoolctl>=2.0.0 in /usr/local/lib/python3.6/dist-packages (from scikit-learn>=0.23->imbalanced-learn) (2.1.0)\n",
            "Requirement already satisfied: scipy>=0.19.1 in /usr/local/lib/python3.6/dist-packages (from imbalanced-learn) (1.4.1)\n",
            "Requirement already satisfied: numpy>=1.13.3 in /usr/local/lib/python3.6/dist-packages (from imbalanced-learn) (1.19.4)\n",
            "Requirement already satisfied: joblib>=0.11 in /usr/local/lib/python3.6/dist-packages (from imbalanced-learn) (0.17.0)\n",
            "Requirement already satisfied: numpy>=1.13.3 in /usr/local/lib/python3.6/dist-packages (from imbalanced-learn) (1.19.4)\n"
          ],
          "name": "stdout"
        }
      ]
    },
    {
      "cell_type": "code",
      "metadata": {
        "colab": {
          "base_uri": "https://localhost:8080/"
        },
        "id": "F_DKJr8g9m-1",
        "outputId": "5e398db6-4eb6-41c4-eabf-f15eb6f2dfc5"
      },
      "source": [
        "#data var contains the dataset. Each column represents a patient. Each row represents a feature\n",
        "#Last row represents the class\n",
        "import numpy as np\n",
        "import pandas\n",
        "\n",
        "inp_file = pandas.read_csv('hcc-data.txt', header = None).to_numpy()\n",
        "\n",
        "data = inp_file[:,:-1]\n",
        "\n",
        "labels = inp_file[:,-1]\n",
        "\n",
        "\n",
        "print(inp_file)"
      ],
      "execution_count": null,
      "outputs": [
        {
          "output_type": "stream",
          "text": [
            "[[1 '0' 1 ... '?' '?' 1]\n",
            " [0 '?' 0 ... '?' '?' 1]\n",
            " [1 '0' 1 ... '6' '16' 1]\n",
            " ...\n",
            " [1 '0' 1 ... '?' '?' 1]\n",
            " [1 '0' 1 ... '?' '?' 0]\n",
            " [1 '1' 1 ... '?' '?' 0]]\n"
          ],
          "name": "stdout"
        }
      ]
    },
    {
      "cell_type": "markdown",
      "metadata": {
        "id": "WuwPdjlXAn9E"
      },
      "source": [
        "2. Με την κλήση της data.shape μπορούμε να δούμε τις διαστάσεις του πίνακα των δεδομένων. Η κάθε σειρά περιέχει τα δεδομένα του αντίστοιχου ασθενή, ενώ η κάθε στήλη περιγράφει ένα χαρακτηριστικό. Όπως βλέπουμε, έχουμε 165 δείγματα ασθενών, ενώ μας δίνονται και 49 χαρακτηριστικά για κάθε έναν καθώς και η κλάση στην οποία ανήκει(σύνολο 50 στήλες), που συμφωνεί με τις πληροφορίες που μας δίνονται από το UCI. Σύμφωνα με τις πληροφορίες στο UCI δεν υπάρχουν μη διατεταγμένα χαρακτηριστικά.\n",
        "\n",
        "3. Στο αρχείο hcc-data.txt που μας δίνεται δεν υπάρχουν ούτε επικεφαλίδες, ούτε αρίθμιση γραμμών.\n",
        "\n",
        "4. Στο hcc-data.txt δεν παρέχονται ετικέτες των κλάσεων αλλά από το UCI έχουμε ότι οι κλάσεις αφορούν την επιβίωση του ασθενούς σε διάστημα ενός χρόνου, ενώ η τιμή που δίνεται είναι δυαδική με ένα(1) - επιβίωσε, μηδέν(0) - απεβίωσε, και βρίσκεται στην κολώνα 50.\n",
        "\n",
        "5. Για να πάρουμε τα δεδομένα στην μορφή που τα έχουμε στην μεταβλητή data, ανοίξαμε το αρχείο με την συνάρτηση read_csv της pandas και βάλαμε την τελευταία στήλη στην μεταβλητή labels όπου και κρατάμε την κλάση στην οποία ανήκει ο ασθενής"
      ]
    },
    {
      "cell_type": "code",
      "metadata": {
        "id": "R3EfPoUlBe5O",
        "colab": {
          "base_uri": "https://localhost:8080/"
        },
        "outputId": "7fb5e8d5-e81b-4276-cc47-9b4649ef7036"
      },
      "source": [
        "c = 0\n",
        "\n",
        "for i in data:\n",
        "  if '?' in i:\n",
        "    c += 1\n",
        "\n",
        "perc = c/len(data)\n",
        "\n",
        "print(c)\n",
        "print(perc)\n"
      ],
      "execution_count": null,
      "outputs": [
        {
          "output_type": "stream",
          "text": [
            "157\n",
            "0.9515151515151515\n"
          ],
          "name": "stdout"
        }
      ]
    },
    {
      "cell_type": "markdown",
      "metadata": {
        "id": "0vN2TRbaJ03S"
      },
      "source": [
        "6. Από τον παραπάνω κώδικα έχουμε ότι υπάρχουν 157 δείγματα με απουσιάζουσες τιμές που αποτελούν το 95.15% των συνολικών δειγμάτων. Τα νούμερα συμφωνούν και με τις τιμές που δίνονται απο το UCI.\n"
      ]
    },
    {
      "cell_type": "code",
      "metadata": {
        "colab": {
          "base_uri": "https://localhost:8080/"
        },
        "id": "Ah8_IlFQJAVg",
        "outputId": "716d560c-875c-474f-b4de-ad8f6b61ee0d"
      },
      "source": [
        "c = 0\n",
        "\n",
        "for i in labels:\n",
        "    c += i\n",
        "\n",
        "perc = c/len(labels)\n",
        "\n",
        "print(c)\n",
        "print(perc)"
      ],
      "execution_count": null,
      "outputs": [
        {
          "output_type": "stream",
          "text": [
            "102\n",
            "0.6181818181818182\n"
          ],
          "name": "stdout"
        }
      ]
    },
    {
      "cell_type": "markdown",
      "metadata": {
        "id": "ZAdpecrvLbx3"
      },
      "source": [
        "7. Στο dataset έχουμε 2 κλάσεις. Τρέχοντας τον παραπάνω κώδικα βλέπουμε ότι το 61.81% των δειγμάτων ανήκουν στην κλάση \"επιβίωσε\", ενώ το 38.18%, στην κλάση \"απεβίωσε\".\n",
        "Το dataset λοιπόν είναι (οριακά) μη ισορροπημένο."
      ]
    },
    {
      "cell_type": "code",
      "metadata": {
        "id": "_pH86p5dLOGZ"
      },
      "source": [
        "from sklearn.model_selection import train_test_split\n",
        "from sklearn.impute import SimpleImputer\n",
        "\n",
        "features = np.where(data == '?',np.NaN,data)\n",
        "tmp = []\n",
        "for i in labels:\n",
        "  tmp.append(int(i))\n",
        "labels = tmp           \n",
        "\n",
        "imp=SimpleImputer(missing_values=np.NaN,strategy='mean')\n",
        "\n",
        "train, test, train_labels, test_labels = train_test_split(features, labels, test_size=0.2)\n",
        "train = imp.fit_transform(train)\n",
        "test = imp.transform(test)"
      ],
      "execution_count": null,
      "outputs": []
    },
    {
      "cell_type": "markdown",
      "metadata": {
        "id": "4ky5MsdQYYp_"
      },
      "source": [
        "8. Με το παραπάνω κελί κώδικα χωρίζουμε το dataset μας σε train και test datasets, με την χρήση της συνάρτησης train_test_split, όπου το 20% του αρχικού μας dataset θα αποτελεί το test. Στο σύνολο των δεδομένων είχαμε απουσιάζουσες τιμές. Επειδή το ποσοστό αυτών είναι μεγάλο, η αφαίρεση των αντίστοιχων δειγμάτων ή κολώνων θα αφαιρούσε και πολύ πληροφορία, κάναμε χρήση του SimpleImputer και αντικαταστίσαμε αυτές τις τιμές με τον μέσο όρο των τιμών του αντίστοιχου feature του train set, τόσο στο train όσο και στο test dataset."
      ]
    },
    {
      "cell_type": "markdown",
      "metadata": {
        "id": "7ZjUlBzCas8X"
      },
      "source": [
        "### Ταξινόνηση"
      ]
    },
    {
      "cell_type": "markdown",
      "metadata": {
        "id": "9KtEU5JlUl2x"
      },
      "source": [
        "Δεδομένου ότι το dataset δεν είναι ισορροπημένο αποφασίζουμε κατά την διάρκεια του preproccessing να εξισορροπίσουμε τα δεδομένα. Χρησιμοποιούμε τόόσο την τεχνική του undersampling όσο και αυτή του oversampling και κρατάμε τα 3 διαφορετικά datasets (τα 2 προαναφερθέντα και το αρχικό) για μελέτη των αποτελεσμάτων κάάθε τεχνικής"
      ]
    },
    {
      "cell_type": "code",
      "metadata": {
        "id": "gA9yAlXAIXJx"
      },
      "source": [
        "from imblearn.over_sampling import RandomOverSampler\n",
        "from imblearn.under_sampling import RandomUnderSampler\n",
        "\n",
        "#Initializing train_set - preproccessing Over/Under samppling\n",
        "\n",
        "ros_over = RandomOverSampler(random_state=0)\n",
        "over_train, over_train_labels = ros_over.fit_sample(train,train_labels)"
      ],
      "execution_count": null,
      "outputs": []
    },
    {
      "cell_type": "markdown",
      "metadata": {
        "id": "LTZmKwCkVwbc"
      },
      "source": [
        "Στο σημείο αυτό αρχικοποιούμε τους dummy classifiers. Επειδή χρησιμοποιούμε 3 διαφορετικά datasets, για κάθε classifier θα χρησιμοποιήσουμε ισάριθμα δίκτυα. Κάάθε ένα θα εκπαιδευτεί σε διαφορετικό dataset και έτσι θα μπορέσουμε να συγκρίνουμε τα αποτελέσματα των τεχνικών του oversampling/undersampling."
      ]
    },
    {
      "cell_type": "code",
      "metadata": {
        "id": "3YXEHSipdv-o"
      },
      "source": [
        "#Classifiers (Dummy - GNB - Knn)\n",
        "\n",
        "from sklearn.dummy import DummyClassifier\n",
        "from sklearn.naive_bayes import GaussianNB\n",
        "from sklearn.neighbors import KNeighborsClassifier\n",
        "\n",
        "dc_uniform = DummyClassifier(strategy=\"uniform\")\n",
        "dc_constant_0 = DummyClassifier(strategy=\"constant\", constant=0)\n",
        "dc_constant_1 = DummyClassifier(strategy=\"constant\", constant=1)\n",
        "dc_most_frequent = DummyClassifier(strategy=\"most_frequent\")\n",
        "dc_stratified = DummyClassifier(strategy=\"stratified\")\n",
        "\n",
        "gnb = GaussianNB()\n",
        "\n",
        "knn = KNeighborsClassifier()\n"
      ],
      "execution_count": null,
      "outputs": []
    },
    {
      "cell_type": "markdown",
      "metadata": {
        "id": "CSsPbv9kWye_"
      },
      "source": [
        "Αρχικοποιούμε 3 GNB classifiers, έναν για κάθε dataset."
      ]
    },
    {
      "cell_type": "markdown",
      "metadata": {
        "id": "PyDZGR41XCdD"
      },
      "source": [
        "Παρακάτω εκπαιδεύουμε τους knn classifiers. Χρησιμοποιούμε την τεχνική του 10-fold cross-validation. Επιλέγουμε 2 ταξινομιτές για κάθε dataset ανάλογα τον τύπο του score: f1_micro, f1_macro\n"
      ]
    },
    {
      "cell_type": "markdown",
      "metadata": {
        "id": "hFW8u990Zj_Z"
      },
      "source": [
        "Η συνάρτηση run_classfr δέχεται σαν όρισμα έναν classifier, δεδομένα train και test, και εκπεδαίευει τον ταξινομητή, υπολογίζει και επιστρέφει τον χρόνο εκπαίδευσής του, το accuracy στο test set, και τα predictions που υπολογίζει ο ταξινομητής."
      ]
    },
    {
      "cell_type": "code",
      "metadata": {
        "id": "IX--g4jXRJYA"
      },
      "source": [
        "import time\n",
        "from sklearn.metrics import confusion_matrix\n",
        "from sklearn.metrics import precision_recall_fscore_support\n",
        "from sklearn.metrics import classification_report\n",
        "from sklearn.metrics import precision_score, recall_score, accuracy_score, f1_score\n",
        "\n",
        "\n",
        "def run_classfr(classifier, train, train_labels, test, test_labels, f1_micro, f1_macro):\n",
        "  start = time.time()\n",
        "  model = classifier.fit(train,train_labels)\n",
        "  duration = time.time() - start\n",
        "  pred = classifier.predict(test)\n",
        "  print_results(pred, duration, f1_micro, f1_macro)\n",
        "\n",
        "def print_results(pred, duration, f1_micro, f1_macro):\n",
        "  plot_confusion_matrix(confusion_matrix(test_labels,pred),['Dead', 'Alive'])\n",
        "  tmp_micro = f1_score(test_labels,pred,average='micro')\n",
        "  tmp_macro = f1_score(test_labels,pred,average='macro')\n",
        "  f1_micro.append(f1_score(test_labels,pred,average='micro'))\n",
        "  f1_macro.append(f1_score(test_labels,pred,average='macro'))\n",
        "  print('F1_micro: ', tmp_micro)\n",
        "  print('F1_macro: ', tmp_macro)\n",
        "  print('Precision score: ',precision_score(test_labels, pred, average='micro'))\n",
        "  print('Recall score: ',recall_score(test_labels, pred, average='micro'))\n",
        "  print(\"Accuracy score: \", accuracy_score(test_labels, pred))\n",
        "  print('Συνολικός Χρόνος: ',duration)"
      ],
      "execution_count": null,
      "outputs": []
    },
    {
      "cell_type": "markdown",
      "metadata": {
        "id": "reUiRK8vaYyq"
      },
      "source": [
        "Η συνάρτηση plot_scores εκτυπώνει ένα γράφημα με τα score του κάθε classifier για το αντίστοιχο score_type.  "
      ]
    },
    {
      "cell_type": "code",
      "metadata": {
        "id": "0H2WpiUYPLhT"
      },
      "source": [
        "import matplotlib.pyplot as plt\n",
        "import numpy as np\n",
        "import itertools\n",
        "\n",
        "\n",
        "def plot_confusion_matrix(cm,\n",
        "                          target_names,\n",
        "                          title='Confusion matrix',\n",
        "                          cmap=plt.cm.Blues,\n",
        "                          normalize=False):\n",
        "   \n",
        "    \n",
        "    accuracy = np.trace(cm) / np.sum(cm).astype('float')\n",
        "    misclass = 1 - accuracy\n",
        "\n",
        "    if cmap is None:\n",
        "        cmap = plt.get_cmap('Blues')\n",
        "\n",
        "    plt.figure(figsize=(4, 3))\n",
        "    plt.imshow(cm, interpolation='nearest', cmap=cmap)\n",
        "    plt.title(title)\n",
        "    plt.colorbar()\n",
        "\n",
        "\n",
        "    if target_names is not None:\n",
        "        tick_marks = np.arange(len(target_names))\n",
        "        plt.xticks(tick_marks, target_names, rotation=45)\n",
        "        plt.yticks(tick_marks, target_names)\n",
        "\n",
        "    if normalize:\n",
        "        cm = cm.astype('float') / cm.sum(axis=1)[:, np.newaxis]\n",
        "\n",
        "\n",
        "    thresh = cm.max() / 1.5 if normalize else cm.max() / 2\n",
        "    for i, j in itertools.product(range(cm.shape[0]), range(cm.shape[1])):\n",
        "        if normalize:\n",
        "            plt.text(j, i, \"{:0.4f}\".format(cm[i, j]),\n",
        "                     horizontalalignment=\"center\",\n",
        "                     color=\"white\" if cm[i, j] > thresh else \"black\")\n",
        "        else:\n",
        "            plt.text(j, i, \"{:,}\".format(cm[i, j]),\n",
        "                     horizontalalignment=\"center\",\n",
        "                     color=\"white\" if cm[i, j] > thresh else \"black\")\n",
        "\n",
        "\n",
        "    plt.tight_layout()\n",
        "    plt.ylabel('True label')\n",
        "    plt.xlabel('Predicted label\\naccuracy={:0.4f}; misclass={:0.4f}'.format(accuracy, misclass))\n",
        "    plt.show()\n"
      ],
      "execution_count": null,
      "outputs": []
    },
    {
      "cell_type": "code",
      "metadata": {
        "id": "T-LayP3IsDDg"
      },
      "source": [
        "import matplotlib.pyplot as plt\n",
        "\n",
        "def plot_scores(x_axis,y_axis,ttl = ''):\n",
        "  plt.figure(figsize=(1.2*len(x_axis)+1, 3.5 + 0.1*len(x_axis)))\n",
        "  plt.xlabel('Classifier',fontsize = 15)\n",
        "  title = ttl+' Score'\n",
        "  plt.ylabel(title,fontsize = 15)\n",
        "  plt.ylim(0,1)\n",
        "  plt.bar(x_axis,y_axis,width = 0.5, color = 'blue')\n",
        "  plt.show()\n"
      ],
      "execution_count": null,
      "outputs": []
    },
    {
      "cell_type": "markdown",
      "metadata": {
        "id": "uI75q03Etwoi"
      },
      "source": [
        "Με την συνάρτηση output εκτυπώνουμε τα ζητούμενα της άσκησης που περιλαμβάνουν για κάθε classifier και κάθε dataset αυτού:\n",
        "\n",
        "* Τον χρόνο εκπαίδευσής του\n",
        "* Τον confusion matrix\n",
        "* Το classification report\n",
        "\n",
        "<br> \n",
        "Και για το σύνολο των classifier, για κάθε ένα απόό τα 3 dataset (original, oversampled, undersampled) 2 γραφήμματα:\n",
        "\n",
        "* Γράφημα των classifiers με το f1 micro score τους\n",
        "* Γράφημα των classifiers με το f1 macro score τους"
      ]
    },
    {
      "cell_type": "code",
      "metadata": {
        "id": "6eyPu6tpe3_G"
      },
      "source": [
        "#initialize values\n",
        "\n",
        "f1_micro = []\n",
        "f1_macro = []"
      ],
      "execution_count": null,
      "outputs": []
    },
    {
      "cell_type": "code",
      "metadata": {
        "id": "At0FVKdcNTdn",
        "colab": {
          "base_uri": "https://localhost:8080/",
          "height": 1000
        },
        "outputId": "0f643c1f-9747-4111-e9fa-807affac7a50"
      },
      "source": [
        "print('dc_uniform:\\n')\n",
        "run_classfr(dc_uniform, over_train, over_train_labels, test, test_labels, f1_micro, f1_macro)\n",
        "print('______________________________________\\n\\n\\n\\n')\n",
        "\n",
        "print('dc_constant_0:\\n')\n",
        "run_classfr(dc_constant_0, over_train, over_train_labels, test, test_labels, f1_micro, f1_macro)\n",
        "print('______________________________________\\n\\n\\n\\n')\n",
        "\n",
        "print('dc_constant_1:\\n')\n",
        "run_classfr(dc_constant_1, over_train, over_train_labels, test, test_labels, f1_micro, f1_macro)\n",
        "print('______________________________________\\n\\n\\n\\n')\n",
        "\n",
        "print('dc_most_frequent:\\n')\n",
        "run_classfr(dc_most_frequent, over_train, over_train_labels, test, test_labels, f1_micro, f1_macro)\n",
        "print('______________________________________\\n\\n\\n\\n')\n",
        "\n",
        "print('dc_stratified:\\n')\n",
        "run_classfr(dc_stratified, over_train, over_train_labels, test, test_labels, f1_micro, f1_macro)\n"
      ],
      "execution_count": null,
      "outputs": [
        {
          "output_type": "stream",
          "text": [
            "dc_uniform:\n",
            "\n"
          ],
          "name": "stdout"
        },
        {
          "output_type": "display_data",
          "data": {
            "image/png": "[encoded data removed]",
            "text/plain": [
              "<Figure size 288x216 with 2 Axes>"
            ]
          },
          "metadata": {
            "tags": [],
            "needs_background": "light"
          }
        },
        {
          "output_type": "stream",
          "text": [
            "F1_micro:  0.45454545454545453\n",
            "F1_macro:  0.45\n",
            "Precision score:  0.45454545454545453\n",
            "Recall score:  0.45454545454545453\n",
            "Accuracy score:  0.45454545454545453\n",
            "Συνολικός Χρόνος:  0.00034332275390625\n",
            "______________________________________\n",
            "\n",
            "\n",
            "\n",
            "\n",
            "dc_constant_0:\n",
            "\n"
          ],
          "name": "stdout"
        },
        {
          "output_type": "display_data",
          "data": {
            "image/png": "[encoded data removed]",
            "text/plain": [
              "<Figure size 288x216 with 2 Axes>"
            ]
          },
          "metadata": {
            "tags": [],
            "needs_background": "light"
          }
        },
        {
          "output_type": "stream",
          "text": [
            "F1_micro:  0.30303030303030304\n",
            "F1_macro:  0.23255813953488375\n",
            "Precision score:  0.30303030303030304\n",
            "Recall score:  0.30303030303030304\n",
            "Accuracy score:  0.30303030303030304\n",
            "Συνολικός Χρόνος:  0.00047326087951660156\n",
            "______________________________________\n",
            "\n",
            "\n",
            "\n",
            "\n",
            "dc_constant_1:\n",
            "\n"
          ],
          "name": "stdout"
        },
        {
          "output_type": "display_data",
          "data": {
            "image/png": "[encoded data removed]",
            "text/plain": [
              "<Figure size 288x216 with 2 Axes>"
            ]
          },
          "metadata": {
            "tags": [],
            "needs_background": "light"
          }
        },
        {
          "output_type": "stream",
          "text": [
            "F1_micro:  0.696969696969697\n",
            "F1_macro:  0.41071428571428575\n",
            "Precision score:  0.696969696969697\n",
            "Recall score:  0.696969696969697\n",
            "Accuracy score:  0.696969696969697\n",
            "Συνολικός Χρόνος:  0.00030994415283203125\n",
            "______________________________________\n",
            "\n",
            "\n",
            "\n",
            "\n",
            "dc_most_frequent:\n",
            "\n"
          ],
          "name": "stdout"
        },
        {
          "output_type": "display_data",
          "data": {
            "image/png": "[encoded data removed]",
            "text/plain": [
              "<Figure size 288x216 with 2 Axes>"
            ]
          },
          "metadata": {
            "tags": [],
            "needs_background": "light"
          }
        },
        {
          "output_type": "stream",
          "text": [
            "F1_micro:  0.30303030303030304\n",
            "F1_macro:  0.23255813953488375\n",
            "Precision score:  0.30303030303030304\n",
            "Recall score:  0.30303030303030304\n",
            "Accuracy score:  0.30303030303030304\n",
            "Συνολικός Χρόνος:  0.00023555755615234375\n",
            "______________________________________\n",
            "\n",
            "\n",
            "\n",
            "\n",
            "dc_stratified:\n",
            "\n"
          ],
          "name": "stdout"
        },
        {
          "output_type": "display_data",
          "data": {
            "image/png": "[encoded data removed]",
            "text/plain": [
              "<Figure size 288x216 with 2 Axes>"
            ]
          },
          "metadata": {
            "tags": [],
            "needs_background": "light"
          }
        },
        {
          "output_type": "stream",
          "text": [
            "F1_micro:  0.45454545454545453\n",
            "F1_macro:  0.44172932330827064\n",
            "Precision score:  0.45454545454545453\n",
            "Recall score:  0.45454545454545453\n",
            "Accuracy score:  0.45454545454545453\n",
            "Συνολικός Χρόνος:  0.00035452842712402344\n"
          ],
          "name": "stdout"
        }
      ]
    },
    {
      "cell_type": "code",
      "metadata": {
        "colab": {
          "base_uri": "https://localhost:8080/",
          "height": 390
        },
        "id": "VPp2CNd0v9vz",
        "outputId": "42157861-ab9c-4dd0-8bb9-afc0ff09ef7c"
      },
      "source": [
        "print('GNB:\\n')\n",
        "run_classfr(gnb, over_train, over_train_labels, test, test_labels, f1_micro, f1_macro)"
      ],
      "execution_count": null,
      "outputs": [
        {
          "output_type": "stream",
          "text": [
            "GNB:\n",
            "\n"
          ],
          "name": "stdout"
        },
        {
          "output_type": "display_data",
          "data": {
            "image/png": "[encoded data removed]",
            "text/plain": [
              "<Figure size 288x216 with 2 Axes>"
            ]
          },
          "metadata": {
            "tags": [],
            "needs_background": "light"
          }
        },
        {
          "output_type": "stream",
          "text": [
            "F1_micro:  0.7575757575757576\n",
            "F1_macro:  0.7130434782608696\n",
            "Precision score:  0.7575757575757576\n",
            "Recall score:  0.7575757575757576\n",
            "Accuracy score:  0.7575757575757576\n",
            "Συνολικός Χρόνος:  0.0019614696502685547\n"
          ],
          "name": "stdout"
        }
      ]
    },
    {
      "cell_type": "code",
      "metadata": {
        "colab": {
          "base_uri": "https://localhost:8080/",
          "height": 390
        },
        "id": "mf7vU2VjwFz_",
        "outputId": "4588e33e-cf2d-476a-c529-acf3b96663e1"
      },
      "source": [
        "print('KNN:\\n')\n",
        "run_classfr(knn, over_train, over_train_labels, test, test_labels, f1_micro, f1_macro)"
      ],
      "execution_count": null,
      "outputs": [
        {
          "output_type": "stream",
          "text": [
            "KNN:\n",
            "\n"
          ],
          "name": "stdout"
        },
        {
          "output_type": "display_data",
          "data": {
            "image/png": "[encoded data removed]",
            "text/plain": [
              "<Figure size 288x216 with 2 Axes>"
            ]
          },
          "metadata": {
            "tags": [],
            "needs_background": "light"
          }
        },
        {
          "output_type": "stream",
          "text": [
            "F1_micro:  0.5151515151515151\n",
            "F1_macro:  0.49230769230769234\n",
            "Precision score:  0.5151515151515151\n",
            "Recall score:  0.5151515151515151\n",
            "Accuracy score:  0.5151515151515151\n",
            "Συνολικός Χρόνος:  0.0014057159423828125\n"
          ],
          "name": "stdout"
        }
      ]
    },
    {
      "cell_type": "code",
      "metadata": {
        "id": "UZyYQA5mY0JD",
        "colab": {
          "base_uri": "https://localhost:8080/",
          "height": 583
        },
        "outputId": "01006780-2a4f-4648-f35c-4197820178af"
      },
      "source": [
        "clf = ['dc_uniform','dc_constant_0','dc_constant_1','dc_most_frequent','dc_stratified','GNB','KNN']\n",
        "\n",
        "plot_scores(clf,f1_micro,'f1_micro')\n",
        "plot_scores(clf,f1_macro,'f1_macro')"
      ],
      "execution_count": null,
      "outputs": [
        {
          "output_type": "display_data",
          "data": {
            "image/png": "[encoded data removed]",
            "text/plain": [
              "<Figure size 676.8x302.4 with 1 Axes>"
            ]
          },
          "metadata": {
            "tags": [],
            "needs_background": "light"
          }
        },
        {
          "output_type": "display_data",
          "data": {
            "image/png": "[encoded data removed]",
            "text/plain": [
              "<Figure size 676.8x302.4 with 1 Axes>"
            ]
          },
          "metadata": {
            "tags": [],
            "needs_background": "light"
          }
        }
      ]
    },
    {
      "cell_type": "markdown",
      "metadata": {
        "id": "AoEhSC96-oPM"
      },
      "source": [
        "#### Συμπέρασμα:\n",
        "Από τα παραπάνω βλέπουμε το αναμενόμενο, δηλαδή ότι οι dummy classifiers αποδίδουν λιγότερο σε κάθε score metric(πλην του dc_constant_1 f1_micro). Αυτό συμβαίνει καθώς δεν χρησιμοποιούν κάποια τεχνική συσχέέτισης στα features (τα αγνοούν πλήρως).Το υψηλό score του dc_constant_1 οφείλεται στο διαχωρισμό του dataset σε train και test και προέκυψε από τύχη τόσο μεγάλο. O gnb έχει ένα αυξημένο ποσοστό επιτυχία σε κάθε score metric (μεγαλύτερο απ' όλους τους classifiers) καθώς χρησιμοποιεί τις συσχετίσεις των χαρακτηριστικών χωρίς όμως να πετυχαίνει και εκπληκτικά αποτελέσματα. Τέλος ο default KNN (5NN) δείχνει να έχει μεγαλύτερο ποσοστό από τους dummy (πλην του dc_constant_1 f1_micro) αλλά μικρότερο από αυτό του gnb. Αυτό μας δείχνει την χαόδη φύύση (την αλληλεπικάάλυψη των δεδομέένων στο χώώρο των features) του dataset. Αυτός είναι και ο λόγος που και ο gnb πετυχαίνει αυτό το χαμηλό σχετικά ποσοστό"
      ]
    },
    {
      "cell_type": "markdown",
      "metadata": {
        "id": "zzS8L5fed35K"
      },
      "source": [
        "###Βελτιστοποίηση"
      ]
    },
    {
      "cell_type": "code",
      "metadata": {
        "id": "jouAy7-Rws0D"
      },
      "source": [
        "from sklearn.metrics import classification_report\n",
        "from imblearn.pipeline import Pipeline\n",
        "from sklearn.feature_selection import VarianceThreshold\n",
        "from sklearn.preprocessing import StandardScaler\n",
        "from imblearn.over_sampling import RandomOverSampler\n",
        "from sklearn.decomposition import PCA\n",
        "from sklearn.model_selection import GridSearchCV\n",
        "import time\n",
        "from sklearn.preprocessing import StandardScaler\n",
        "from sklearn.preprocessing import MinMaxScaler\n",
        "from sklearn.pipeline import make_pipeline\n",
        "\n",
        "n_components = range(5,49,9)\n",
        "selector = VarianceThreshold()\n",
        "scaler = StandardScaler()\n",
        "\n",
        "acc = []\n",
        "f1_micro = []\n",
        "f1_macro = []"
      ],
      "execution_count": null,
      "outputs": []
    },
    {
      "cell_type": "code",
      "metadata": {
        "id": "Kb5YB-QYeECP"
      },
      "source": [
        "def best_parameters(steps, param, cv, score_type, train, train_labels, test, test_labels):\n",
        "  pipe = Pipeline(steps = steps, memory = 'tmp')\n",
        "  estimator = GridSearchCV(pipe, param, cv = cv, scoring = score_type, n_jobs =-1)   \n",
        "  start_time = time.time()\n",
        "  estimator.fit(train, train_labels)\n",
        "  preds = estimator.best_estimator_.predict(test)\n",
        "  print(\"Συνολικός χρόνος fit και predict: %s seconds\" % (time.time() - start_time))\n",
        "  print(classification_report(test_labels, preds))\n",
        "  print(estimator.best_estimator_)\n",
        "  print(estimator.best_params_)\n",
        "  f1_micro.append(f1_score(test_labels,preds,average='micro'))\n",
        "  f1_macro.append(f1_score(test_labels,preds,average='macro'))\n",
        "  plot_confusion_matrix(confusion_matrix(test_labels,preds), ['Dead','Alive'])\n",
        "  print(\"Precision score is \", precision_score(test_labels, preds, average=None))\n",
        "  print(\"Recall  score is \", recall_score(test_labels, preds, average=None))\n",
        "  acc.append(accuracy_score(test_labels, preds))\n",
        "  print(\"Accuracy score is \", acc[-1])"
      ],
      "execution_count": null,
      "outputs": []
    },
    {
      "cell_type": "markdown",
      "metadata": {
        "id": "a2M9GnY4GtxE"
      },
      "source": [
        "####Score F1_micro"
      ]
    },
    {
      "cell_type": "code",
      "metadata": {
        "colab": {
          "base_uri": "https://localhost:8080/",
          "height": 1000
        },
        "id": "GbME7UDnJ8mB",
        "outputId": "8887b68c-602d-48ec-ffa3-242a51e367d5"
      },
      "source": [
        "pca = PCA()\n",
        "ros = RandomOverSampler()\n",
        "\n",
        "grid_params = {\n",
        "    'pca__n_components': n_components, \n",
        "}\n",
        "\n",
        "steps=[('selector', selector), ('scaler', scaler), ('sampler', ros), ('pca', pca), ('dummy', dc_uniform)]\n",
        "\n",
        "best_parameters(steps,grid_params,10,'f1_micro',over_train,over_train_labels,test,test_labels)\n",
        "\n",
        "print('______________________________________\\n\\n\\n\\n')\n",
        "\n",
        "\n",
        "steps=[('selector', selector), ('scaler', scaler), ('sampler', ros), ('pca', pca), ('dummy', dc_constant_0)]\n",
        "\n",
        "best_parameters(steps,grid_params,10,'f1_micro',over_train,over_train_labels,test,test_labels)\n",
        "\n",
        "print('______________________________________\\n\\n\\n\\n')\n",
        "\n",
        "\n",
        "steps=[('selector', selector), ('scaler', scaler), ('sampler', ros), ('pca', pca), ('dummy', dc_constant_1)]\n",
        "\n",
        "best_parameters(steps,grid_params,10,'f1_micro',over_train,over_train_labels,test,test_labels)\n",
        "\n",
        "print('______________________________________\\n\\n\\n\\n')\n",
        "\n",
        "\n",
        "steps=[('selector', selector), ('scaler', scaler), ('sampler', ros), ('pca', pca), ('dummy', dc_most_frequent)]\n",
        "\n",
        "best_parameters(steps,grid_params,10,'f1_micro',over_train,over_train_labels,test,test_labels)\n",
        "\n",
        "print('______________________________________\\n\\n\\n\\n')\n",
        "\n",
        "\n",
        "steps=[('selector', selector), ('scaler', scaler), ('sampler', ros), ('pca', pca), ('dummy', dc_stratified)]\n",
        "\n",
        "best_parameters(steps,grid_params,10,'f1_micro',over_train,over_train_labels,test,test_labels)"
      ],
      "execution_count": null,
      "outputs": [
        {
          "output_type": "stream",
          "text": [
            "Συνολικός χρόνος fit και predict: 2.1270411014556885 seconds\n",
            "              precision    recall  f1-score   support\n",
            "\n",
            "           0       0.22      0.20      0.21        10\n",
            "           1       0.67      0.70      0.68        23\n",
            "\n",
            "    accuracy                           0.55        33\n",
            "   macro avg       0.44      0.45      0.45        33\n",
            "weighted avg       0.53      0.55      0.54        33\n",
            "\n",
            "Pipeline(memory='tmp',\n",
            "         steps=[('selector', VarianceThreshold()), ('scaler', StandardScaler()),\n",
            "                ('sampler', RandomOverSampler()), ('pca', PCA(n_components=14)),\n",
            "                ('dummy', DummyClassifier(strategy='uniform'))])\n",
            "{'pca__n_components': 14}\n"
          ],
          "name": "stdout"
        },
        {
          "output_type": "display_data",
          "data": {
            "image/png": "[encoded data removed]",
            "text/plain": [
              "<Figure size 288x216 with 2 Axes>"
            ]
          },
          "metadata": {
            "tags": [],
            "needs_background": "light"
          }
        },
        {
          "output_type": "stream",
          "text": [
            "Precision score is  [0.22222222 0.66666667]\n",
            "Recall  score is  [0.2        0.69565217]\n",
            "Accuracy score is  0.5454545454545454\n",
            "______________________________________\n",
            "\n",
            "\n",
            "\n",
            "\n",
            "Συνολικός χρόνος fit και predict: 0.5003774166107178 seconds\n",
            "              precision    recall  f1-score   support\n",
            "\n",
            "           0       0.30      1.00      0.47        10\n",
            "           1       0.00      0.00      0.00        23\n",
            "\n",
            "    accuracy                           0.30        33\n",
            "   macro avg       0.15      0.50      0.23        33\n",
            "weighted avg       0.09      0.30      0.14        33\n",
            "\n",
            "Pipeline(memory='tmp',\n",
            "         steps=[('selector', VarianceThreshold()), ('scaler', StandardScaler()),\n",
            "                ('sampler', RandomOverSampler()), ('pca', PCA(n_components=5)),\n",
            "                ('dummy', DummyClassifier(constant=0, strategy='constant'))])\n",
            "{'pca__n_components': 5}\n"
          ],
          "name": "stdout"
        },
        {
          "output_type": "stream",
          "text": [
            "/usr/local/lib/python3.6/dist-packages/sklearn/metrics/_classification.py:1221: UndefinedMetricWarning: Precision and F-score are ill-defined and being set to 0.0 in labels with no predicted samples. Use `zero_division` parameter to control this behavior.\n",
            "  _warn_prf(average, modifier, msg_start, len(result))\n"
          ],
          "name": "stderr"
        },
        {
          "output_type": "display_data",
          "data": {
            "image/png": "[encoded data removed]",
            "text/plain": [
              "<Figure size 288x216 with 2 Axes>"
            ]
          },
          "metadata": {
            "tags": [],
            "needs_background": "light"
          }
        },
        {
          "output_type": "stream",
          "text": [
            "/usr/local/lib/python3.6/dist-packages/sklearn/metrics/_classification.py:1221: UndefinedMetricWarning: Precision is ill-defined and being set to 0.0 in labels with no predicted samples. Use `zero_division` parameter to control this behavior.\n",
            "  _warn_prf(average, modifier, msg_start, len(result))\n"
          ],
          "name": "stderr"
        },
        {
          "output_type": "stream",
          "text": [
            "Precision score is  [0.3030303 0.       ]\n",
            "Recall  score is  [1. 0.]\n",
            "Accuracy score is  0.30303030303030304\n",
            "______________________________________\n",
            "\n",
            "\n",
            "\n",
            "\n",
            "Συνολικός χρόνος fit και predict: 0.49866557121276855 seconds\n",
            "              precision    recall  f1-score   support\n",
            "\n",
            "           0       0.00      0.00      0.00        10\n",
            "           1       0.70      1.00      0.82        23\n",
            "\n",
            "    accuracy                           0.70        33\n",
            "   macro avg       0.35      0.50      0.41        33\n",
            "weighted avg       0.49      0.70      0.57        33\n",
            "\n",
            "Pipeline(memory='tmp',\n",
            "         steps=[('selector', VarianceThreshold()), ('scaler', StandardScaler()),\n",
            "                ('sampler', RandomOverSampler()), ('pca', PCA(n_components=5)),\n",
            "                ('dummy', DummyClassifier(constant=1, strategy='constant'))])\n",
            "{'pca__n_components': 5}\n"
          ],
          "name": "stdout"
        },
        {
          "output_type": "stream",
          "text": [
            "/usr/local/lib/python3.6/dist-packages/sklearn/metrics/_classification.py:1221: UndefinedMetricWarning: Precision and F-score are ill-defined and being set to 0.0 in labels with no predicted samples. Use `zero_division` parameter to control this behavior.\n",
            "  _warn_prf(average, modifier, msg_start, len(result))\n"
          ],
          "name": "stderr"
        },
        {
          "output_type": "display_data",
          "data": {
            "image/png": "[encoded data removed]",
            "text/plain": [
              "<Figure size 288x216 with 2 Axes>"
            ]
          },
          "metadata": {
            "tags": [],
            "needs_background": "light"
          }
        },
        {
          "output_type": "stream",
          "text": [
            "/usr/local/lib/python3.6/dist-packages/sklearn/metrics/_classification.py:1221: UndefinedMetricWarning: Precision is ill-defined and being set to 0.0 in labels with no predicted samples. Use `zero_division` parameter to control this behavior.\n",
            "  _warn_prf(average, modifier, msg_start, len(result))\n"
          ],
          "name": "stderr"
        },
        {
          "output_type": "stream",
          "text": [
            "Precision score is  [0.        0.6969697]\n",
            "Recall  score is  [0. 1.]\n",
            "Accuracy score is  0.696969696969697\n",
            "______________________________________\n",
            "\n",
            "\n",
            "\n",
            "\n",
            "Συνολικός χρόνος fit και predict: 0.4895939826965332 seconds\n",
            "              precision    recall  f1-score   support\n",
            "\n",
            "           0       0.30      1.00      0.47        10\n",
            "           1       0.00      0.00      0.00        23\n",
            "\n",
            "    accuracy                           0.30        33\n",
            "   macro avg       0.15      0.50      0.23        33\n",
            "weighted avg       0.09      0.30      0.14        33\n",
            "\n",
            "Pipeline(memory='tmp',\n",
            "         steps=[('selector', VarianceThreshold()), ('scaler', StandardScaler()),\n",
            "                ('sampler', RandomOverSampler()), ('pca', PCA(n_components=5)),\n",
            "                ('dummy', DummyClassifier(strategy='most_frequent'))])\n",
            "{'pca__n_components': 5}\n"
          ],
          "name": "stdout"
        },
        {
          "output_type": "stream",
          "text": [
            "/usr/local/lib/python3.6/dist-packages/sklearn/metrics/_classification.py:1221: UndefinedMetricWarning: Precision and F-score are ill-defined and being set to 0.0 in labels with no predicted samples. Use `zero_division` parameter to control this behavior.\n",
            "  _warn_prf(average, modifier, msg_start, len(result))\n"
          ],
          "name": "stderr"
        },
        {
          "output_type": "display_data",
          "data": {
            "image/png": "[encoded data removed]",
            "text/plain": [
              "<Figure size 288x216 with 2 Axes>"
            ]
          },
          "metadata": {
            "tags": [],
            "needs_background": "light"
          }
        },
        {
          "output_type": "stream",
          "text": [
            "/usr/local/lib/python3.6/dist-packages/sklearn/metrics/_classification.py:1221: UndefinedMetricWarning: Precision is ill-defined and being set to 0.0 in labels with no predicted samples. Use `zero_division` parameter to control this behavior.\n",
            "  _warn_prf(average, modifier, msg_start, len(result))\n"
          ],
          "name": "stderr"
        },
        {
          "output_type": "stream",
          "text": [
            "Precision score is  [0.3030303 0.       ]\n",
            "Recall  score is  [1. 0.]\n",
            "Accuracy score is  0.30303030303030304\n",
            "______________________________________\n",
            "\n",
            "\n",
            "\n",
            "\n",
            "Συνολικός χρόνος fit και predict: 0.5055465698242188 seconds\n",
            "              precision    recall  f1-score   support\n",
            "\n",
            "           0       0.15      0.20      0.17        10\n",
            "           1       0.60      0.52      0.56        23\n",
            "\n",
            "    accuracy                           0.42        33\n",
            "   macro avg       0.38      0.36      0.37        33\n",
            "weighted avg       0.46      0.42      0.44        33\n",
            "\n",
            "Pipeline(memory='tmp',\n",
            "         steps=[('selector', VarianceThreshold()), ('scaler', StandardScaler()),\n",
            "                ('sampler', RandomOverSampler()), ('pca', PCA(n_components=23)),\n",
            "                ('dummy', DummyClassifier(strategy='stratified'))])\n",
            "{'pca__n_components': 23}\n"
          ],
          "name": "stdout"
        },
        {
          "output_type": "display_data",
          "data": {
            "image/png": "[encoded data removed]",
            "text/plain": [
              "<Figure size 288x216 with 2 Axes>"
            ]
          },
          "metadata": {
            "tags": [],
            "needs_background": "light"
          }
        },
        {
          "output_type": "stream",
          "text": [
            "Precision score is  [0.15384615 0.6       ]\n",
            "Recall  score is  [0.2        0.52173913]\n",
            "Accuracy score is  0.42424242424242425\n"
          ],
          "name": "stdout"
        }
      ]
    },
    {
      "cell_type": "code",
      "metadata": {
        "colab": {
          "base_uri": "https://localhost:8080/",
          "height": 564
        },
        "id": "oSdTJlZcNQrr",
        "outputId": "58ce0be1-f2e9-48ca-cbeb-373c7f614f98"
      },
      "source": [
        "smooth = [1e-9,1e-6,1e-3]\n",
        "pca = PCA()\n",
        "clf = GaussianNB()\n",
        "ros = RandomOverSampler()\n",
        "\n",
        "grid_params = {\n",
        "    'pca__n_components': n_components,\n",
        "    'gnb__var_smoothing': smooth\n",
        "}\n",
        "\n",
        "steps=[('selector', selector), ('scaler', scaler), ('sampler', ros), ('pca', pca), ('gnb', clf)]\n",
        "\n",
        "best_parameters(steps,grid_params,10,'f1_micro',train,train_labels,test,test_labels)"
      ],
      "execution_count": null,
      "outputs": [
        {
          "output_type": "stream",
          "text": [
            "Συνολικός χρόνος fit και predict: 1.880995512008667 seconds\n",
            "              precision    recall  f1-score   support\n",
            "\n",
            "           0       0.70      0.70      0.70        10\n",
            "           1       0.87      0.87      0.87        23\n",
            "\n",
            "    accuracy                           0.82        33\n",
            "   macro avg       0.78      0.78      0.78        33\n",
            "weighted avg       0.82      0.82      0.82        33\n",
            "\n",
            "Pipeline(memory='tmp',\n",
            "         steps=[('selector', VarianceThreshold()), ('scaler', StandardScaler()),\n",
            "                ('sampler', RandomOverSampler()), ('pca', PCA(n_components=5)),\n",
            "                ('gnb', GaussianNB())])\n",
            "{'gnb__var_smoothing': 1e-09, 'pca__n_components': 5}\n"
          ],
          "name": "stdout"
        },
        {
          "output_type": "display_data",
          "data": {
            "image/png": "[encoded data removed]",
            "text/plain": [
              "<Figure size 288x216 with 2 Axes>"
            ]
          },
          "metadata": {
            "tags": [],
            "needs_background": "light"
          }
        },
        {
          "output_type": "stream",
          "text": [
            "Precision score is  [0.7        0.86956522]\n",
            "Recall  score is  [0.7        0.86956522]\n",
            "Accuracy score is  0.8181818181818182\n"
          ],
          "name": "stdout"
        }
      ]
    },
    {
      "cell_type": "code",
      "metadata": {
        "colab": {
          "base_uri": "https://localhost:8080/",
          "height": 598
        },
        "id": "DQDVPdCENYZ5",
        "outputId": "5f132d4b-4bd5-41df-bc2c-f873604fc971"
      },
      "source": [
        "k = [1, 3, 5, 7, 9]\n",
        "pca = PCA()\n",
        "clf = KNeighborsClassifier(n_jobs=-1)\n",
        "ros = RandomOverSampler()\n",
        "weights = ['uniform','distance']\n",
        "metric = ['euclidean','manhattan','chebyshev','minkowski']\n",
        "\n",
        "grid_params = {\n",
        "    'pca__n_components': n_components,\n",
        "    'kNN__n_neighbors': k,\n",
        "    'kNN__weights': weights,\n",
        "    'kNN__metric': metric\n",
        "}\n",
        "\n",
        "steps=[('selector', selector), ('scaler', scaler), ('pca', pca), ('kNN', clf)]\n",
        "\n",
        "best_parameters(steps,grid_params,10,'f1_micro',train,train_labels,test,test_labels)"
      ],
      "execution_count": null,
      "outputs": [
        {
          "output_type": "stream",
          "text": [
            "Συνολικός χρόνος fit και predict: 118.01942229270935 seconds\n",
            "              precision    recall  f1-score   support\n",
            "\n",
            "           0       1.00      0.40      0.57        10\n",
            "           1       0.79      1.00      0.88        23\n",
            "\n",
            "    accuracy                           0.82        33\n",
            "   macro avg       0.90      0.70      0.73        33\n",
            "weighted avg       0.86      0.82      0.79        33\n",
            "\n",
            "Pipeline(memory='tmp',\n",
            "         steps=[('selector', VarianceThreshold()), ('scaler', StandardScaler()),\n",
            "                ('pca', PCA(n_components=32)),\n",
            "                ('kNN',\n",
            "                 KNeighborsClassifier(metric='euclidean', n_jobs=-1,\n",
            "                                      n_neighbors=7))])\n",
            "{'kNN__metric': 'euclidean', 'kNN__n_neighbors': 7, 'kNN__weights': 'uniform', 'pca__n_components': 32}\n"
          ],
          "name": "stdout"
        },
        {
          "output_type": "display_data",
          "data": {
            "image/png": "[encoded data removed]",
            "text/plain": [
              "<Figure size 288x216 with 2 Axes>"
            ]
          },
          "metadata": {
            "tags": [],
            "needs_background": "light"
          }
        },
        {
          "output_type": "stream",
          "text": [
            "Precision score is  [1.         0.79310345]\n",
            "Recall  score is  [0.4 1. ]\n",
            "Accuracy score is  0.8181818181818182\n"
          ],
          "name": "stdout"
        }
      ]
    },
    {
      "cell_type": "markdown",
      "metadata": {
        "id": "xROIKUgdG0Fr"
      },
      "source": [
        "####Score F1_macro"
      ]
    },
    {
      "cell_type": "code",
      "metadata": {
        "colab": {
          "base_uri": "https://localhost:8080/",
          "height": 1000
        },
        "id": "6Nsj1UM-K-oS",
        "outputId": "56e48c92-6ef6-40b4-d450-5153ab61fadc"
      },
      "source": [
        "pca = PCA()\n",
        "ros = RandomOverSampler()\n",
        "\n",
        "grid_params = {\n",
        "    'pca__n_components': n_components, \n",
        "}\n",
        "\n",
        "steps=[('selector', selector), ('scaler', scaler), ('sampler', ros), ('pca', pca), ('dummy', dc_uniform)]\n",
        "\n",
        "best_parameters(steps,grid_params,10,'f1_macro',over_train,over_train_labels,test,test_labels)\n",
        "\n",
        "print('______________________________________\\n\\n\\n\\n')\n",
        "\n",
        "\n",
        "steps=[('selector', selector), ('scaler', scaler), ('sampler', ros), ('pca', pca), ('dummy', dc_constant_0)]\n",
        "\n",
        "best_parameters(steps,grid_params,10,'f1_macro',over_train,over_train_labels,test,test_labels)\n",
        "\n",
        "print('______________________________________\\n\\n\\n\\n')\n",
        "\n",
        "\n",
        "steps=[('selector', selector), ('scaler', scaler), ('sampler', ros), ('pca', pca), ('dummy', dc_constant_1)]\n",
        "\n",
        "best_parameters(steps,grid_params,10,'f1_macro',over_train,over_train_labels,test,test_labels)\n",
        "\n",
        "print('______________________________________\\n\\n\\n\\n')\n",
        "\n",
        "\n",
        "steps=[('selector', selector), ('scaler', scaler), ('sampler', ros), ('pca', pca), ('dummy', dc_most_frequent)]\n",
        "\n",
        "best_parameters(steps,grid_params,10,'f1_macro',over_train,over_train_labels,test,test_labels)\n",
        "\n",
        "print('______________________________________\\n\\n\\n\\n')\n",
        "\n",
        "\n",
        "steps=[('selector', selector), ('scaler', scaler), ('sampler', ros), ('pca', pca), ('dummy', dc_stratified)]\n",
        "\n",
        "best_parameters(steps,grid_params,10,'f1_macro',over_train,over_train_labels,test,test_labels)"
      ],
      "execution_count": null,
      "outputs": [
        {
          "output_type": "stream",
          "text": [
            "Συνολικός χρόνος fit και predict: 1.7677223682403564 seconds\n",
            "              precision    recall  f1-score   support\n",
            "\n",
            "           0       0.31      0.50      0.38        10\n",
            "           1       0.71      0.52      0.60        23\n",
            "\n",
            "    accuracy                           0.52        33\n",
            "   macro avg       0.51      0.51      0.49        33\n",
            "weighted avg       0.59      0.52      0.53        33\n",
            "\n",
            "Pipeline(memory='tmp',\n",
            "         steps=[('selector', VarianceThreshold()), ('scaler', StandardScaler()),\n",
            "                ('sampler', RandomOverSampler()), ('pca', PCA(n_components=23)),\n",
            "                ('dummy', DummyClassifier(strategy='uniform'))])\n",
            "{'pca__n_components': 23}\n"
          ],
          "name": "stdout"
        },
        {
          "output_type": "display_data",
          "data": {
            "image/png": "[encoded data removed]",
            "text/plain": [
              "<Figure size 288x216 with 2 Axes>"
            ]
          },
          "metadata": {
            "tags": [],
            "needs_background": "light"
          }
        },
        {
          "output_type": "stream",
          "text": [
            "Precision score is  [0.3125     0.70588235]\n",
            "Recall  score is  [0.5        0.52173913]\n",
            "Accuracy score is  0.5151515151515151\n",
            "______________________________________\n",
            "\n",
            "\n",
            "\n",
            "\n",
            "Συνολικός χρόνος fit και predict: 0.48444318771362305 seconds\n",
            "              precision    recall  f1-score   support\n",
            "\n",
            "           0       0.30      1.00      0.47        10\n",
            "           1       0.00      0.00      0.00        23\n",
            "\n",
            "    accuracy                           0.30        33\n",
            "   macro avg       0.15      0.50      0.23        33\n",
            "weighted avg       0.09      0.30      0.14        33\n",
            "\n",
            "Pipeline(memory='tmp',\n",
            "         steps=[('selector', VarianceThreshold()), ('scaler', StandardScaler()),\n",
            "                ('sampler', RandomOverSampler()), ('pca', PCA(n_components=5)),\n",
            "                ('dummy', DummyClassifier(constant=0, strategy='constant'))])\n",
            "{'pca__n_components': 5}\n"
          ],
          "name": "stdout"
        },
        {
          "output_type": "stream",
          "text": [
            "/usr/local/lib/python3.6/dist-packages/sklearn/metrics/_classification.py:1221: UndefinedMetricWarning: Precision and F-score are ill-defined and being set to 0.0 in labels with no predicted samples. Use `zero_division` parameter to control this behavior.\n",
            "  _warn_prf(average, modifier, msg_start, len(result))\n"
          ],
          "name": "stderr"
        },
        {
          "output_type": "display_data",
          "data": {
            "image/png": "[encoded data removed]",
            "text/plain": [
              "<Figure size 288x216 with 2 Axes>"
            ]
          },
          "metadata": {
            "tags": [],
            "needs_background": "light"
          }
        },
        {
          "output_type": "stream",
          "text": [
            "/usr/local/lib/python3.6/dist-packages/sklearn/metrics/_classification.py:1221: UndefinedMetricWarning: Precision is ill-defined and being set to 0.0 in labels with no predicted samples. Use `zero_division` parameter to control this behavior.\n",
            "  _warn_prf(average, modifier, msg_start, len(result))\n"
          ],
          "name": "stderr"
        },
        {
          "output_type": "stream",
          "text": [
            "Precision score is  [0.3030303 0.       ]\n",
            "Recall  score is  [1. 0.]\n",
            "Accuracy score is  0.30303030303030304\n",
            "______________________________________\n",
            "\n",
            "\n",
            "\n",
            "\n",
            "Συνολικός χρόνος fit και predict: 0.49089908599853516 seconds\n",
            "              precision    recall  f1-score   support\n",
            "\n",
            "           0       0.00      0.00      0.00        10\n",
            "           1       0.70      1.00      0.82        23\n",
            "\n",
            "    accuracy                           0.70        33\n",
            "   macro avg       0.35      0.50      0.41        33\n",
            "weighted avg       0.49      0.70      0.57        33\n",
            "\n",
            "Pipeline(memory='tmp',\n",
            "         steps=[('selector', VarianceThreshold()), ('scaler', StandardScaler()),\n",
            "                ('sampler', RandomOverSampler()), ('pca', PCA(n_components=5)),\n",
            "                ('dummy', DummyClassifier(constant=1, strategy='constant'))])\n",
            "{'pca__n_components': 5}\n"
          ],
          "name": "stdout"
        },
        {
          "output_type": "stream",
          "text": [
            "/usr/local/lib/python3.6/dist-packages/sklearn/metrics/_classification.py:1221: UndefinedMetricWarning: Precision and F-score are ill-defined and being set to 0.0 in labels with no predicted samples. Use `zero_division` parameter to control this behavior.\n",
            "  _warn_prf(average, modifier, msg_start, len(result))\n"
          ],
          "name": "stderr"
        },
        {
          "output_type": "display_data",
          "data": {
            "image/png": "[encoded data removed]",
            "text/plain": [
              "<Figure size 288x216 with 2 Axes>"
            ]
          },
          "metadata": {
            "tags": [],
            "needs_background": "light"
          }
        },
        {
          "output_type": "stream",
          "text": [
            "/usr/local/lib/python3.6/dist-packages/sklearn/metrics/_classification.py:1221: UndefinedMetricWarning: Precision is ill-defined and being set to 0.0 in labels with no predicted samples. Use `zero_division` parameter to control this behavior.\n",
            "  _warn_prf(average, modifier, msg_start, len(result))\n"
          ],
          "name": "stderr"
        },
        {
          "output_type": "stream",
          "text": [
            "Precision score is  [0.        0.6969697]\n",
            "Recall  score is  [0. 1.]\n",
            "Accuracy score is  0.696969696969697\n",
            "______________________________________\n",
            "\n",
            "\n",
            "\n",
            "\n",
            "Συνολικός χρόνος fit και predict: 0.5018107891082764 seconds\n",
            "              precision    recall  f1-score   support\n",
            "\n",
            "           0       0.30      1.00      0.47        10\n",
            "           1       0.00      0.00      0.00        23\n",
            "\n",
            "    accuracy                           0.30        33\n",
            "   macro avg       0.15      0.50      0.23        33\n",
            "weighted avg       0.09      0.30      0.14        33\n",
            "\n",
            "Pipeline(memory='tmp',\n",
            "         steps=[('selector', VarianceThreshold()), ('scaler', StandardScaler()),\n",
            "                ('sampler', RandomOverSampler()), ('pca', PCA(n_components=5)),\n",
            "                ('dummy', DummyClassifier(strategy='most_frequent'))])\n",
            "{'pca__n_components': 5}\n"
          ],
          "name": "stdout"
        },
        {
          "output_type": "stream",
          "text": [
            "/usr/local/lib/python3.6/dist-packages/sklearn/metrics/_classification.py:1221: UndefinedMetricWarning: Precision and F-score are ill-defined and being set to 0.0 in labels with no predicted samples. Use `zero_division` parameter to control this behavior.\n",
            "  _warn_prf(average, modifier, msg_start, len(result))\n"
          ],
          "name": "stderr"
        },
        {
          "output_type": "display_data",
          "data": {
            "image/png": "[encoded data removed]",
            "text/plain": [
              "<Figure size 288x216 with 2 Axes>"
            ]
          },
          "metadata": {
            "tags": [],
            "needs_background": "light"
          }
        },
        {
          "output_type": "stream",
          "text": [
            "/usr/local/lib/python3.6/dist-packages/sklearn/metrics/_classification.py:1221: UndefinedMetricWarning: Precision is ill-defined and being set to 0.0 in labels with no predicted samples. Use `zero_division` parameter to control this behavior.\n",
            "  _warn_prf(average, modifier, msg_start, len(result))\n"
          ],
          "name": "stderr"
        },
        {
          "output_type": "stream",
          "text": [
            "Precision score is  [0.3030303 0.       ]\n",
            "Recall  score is  [1. 0.]\n",
            "Accuracy score is  0.30303030303030304\n",
            "______________________________________\n",
            "\n",
            "\n",
            "\n",
            "\n",
            "Συνολικός χρόνος fit και predict: 0.49752306938171387 seconds\n",
            "              precision    recall  f1-score   support\n",
            "\n",
            "           0       0.46      0.60      0.52        10\n",
            "           1       0.80      0.70      0.74        23\n",
            "\n",
            "    accuracy                           0.67        33\n",
            "   macro avg       0.63      0.65      0.63        33\n",
            "weighted avg       0.70      0.67      0.68        33\n",
            "\n",
            "Pipeline(memory='tmp',\n",
            "         steps=[('selector', VarianceThreshold()), ('scaler', StandardScaler()),\n",
            "                ('sampler', RandomOverSampler()), ('pca', PCA(n_components=14)),\n",
            "                ('dummy', DummyClassifier(strategy='stratified'))])\n",
            "{'pca__n_components': 14}\n"
          ],
          "name": "stdout"
        },
        {
          "output_type": "display_data",
          "data": {
            "image/png": "[encoded data removed]",
            "text/plain": [
              "<Figure size 288x216 with 2 Axes>"
            ]
          },
          "metadata": {
            "tags": [],
            "needs_background": "light"
          }
        },
        {
          "output_type": "stream",
          "text": [
            "Precision score is  [0.46153846 0.8       ]\n",
            "Recall  score is  [0.6        0.69565217]\n",
            "Accuracy score is  0.6666666666666666\n"
          ],
          "name": "stdout"
        }
      ]
    },
    {
      "cell_type": "code",
      "metadata": {
        "colab": {
          "base_uri": "https://localhost:8080/",
          "height": 564
        },
        "id": "-YMElfFONUrc",
        "outputId": "0b2a4967-1e92-4d11-cb01-28e3022f14f6"
      },
      "source": [
        "smooth = [1e-9,1e-6,1e-3]\n",
        "pca = PCA()\n",
        "clf = GaussianNB()\n",
        "ros = RandomOverSampler()\n",
        "\n",
        "grid_params = {\n",
        "    'pca__n_components': n_components,\n",
        "    'gnb__var_smoothing': smooth\n",
        "}\n",
        "\n",
        "steps=[('selector', selector), ('scaler', scaler), ('sampler', ros), ('pca', pca), ('gnb', clf)]\n",
        "\n",
        "best_parameters(steps,grid_params,10,'f1_macro',train,train_labels,test,test_labels)"
      ],
      "execution_count": null,
      "outputs": [
        {
          "output_type": "stream",
          "text": [
            "Συνολικός χρόνος fit και predict: 1.4256680011749268 seconds\n",
            "              precision    recall  f1-score   support\n",
            "\n",
            "           0       0.70      0.70      0.70        10\n",
            "           1       0.87      0.87      0.87        23\n",
            "\n",
            "    accuracy                           0.82        33\n",
            "   macro avg       0.78      0.78      0.78        33\n",
            "weighted avg       0.82      0.82      0.82        33\n",
            "\n",
            "Pipeline(memory='tmp',\n",
            "         steps=[('selector', VarianceThreshold()), ('scaler', StandardScaler()),\n",
            "                ('sampler', RandomOverSampler()), ('pca', PCA(n_components=5)),\n",
            "                ('gnb', GaussianNB())])\n",
            "{'gnb__var_smoothing': 1e-09, 'pca__n_components': 5}\n"
          ],
          "name": "stdout"
        },
        {
          "output_type": "display_data",
          "data": {
            "image/png": "[encoded data removed]",
            "text/plain": [
              "<Figure size 288x216 with 2 Axes>"
            ]
          },
          "metadata": {
            "tags": [],
            "needs_background": "light"
          }
        },
        {
          "output_type": "stream",
          "text": [
            "Precision score is  [0.7        0.86956522]\n",
            "Recall  score is  [0.7        0.86956522]\n",
            "Accuracy score is  0.8181818181818182\n"
          ],
          "name": "stdout"
        }
      ]
    },
    {
      "cell_type": "code",
      "metadata": {
        "colab": {
          "base_uri": "https://localhost:8080/",
          "height": 598
        },
        "id": "nIoM0YRFNhjV",
        "outputId": "39ad36b1-3293-49df-e69a-9cf0abdda693"
      },
      "source": [
        "k = [1, 3, 5, 7, 9]\n",
        "pca = PCA()\n",
        "clf = KNeighborsClassifier(n_jobs=-1)\n",
        "ros = RandomOverSampler()\n",
        "weights = ['uniform','distance']\n",
        "metric = ['euclidean','manhattan','chebyshev','minkowski']\n",
        "\n",
        "grid_params = {\n",
        "    'pca__n_components': n_components,\n",
        "    'kNN__n_neighbors': k,\n",
        "    'kNN__weights': weights,\n",
        "    'kNN__metric': metric\n",
        "}\n",
        "\n",
        "steps=[('selector', selector), ('scaler', scaler), ('pca', pca), ('kNN', clf)]\n",
        "\n",
        "best_parameters(steps,grid_params,10,'f1_macro',train,train_labels,test,test_labels)"
      ],
      "execution_count": null,
      "outputs": [
        {
          "output_type": "stream",
          "text": [
            "Συνολικός χρόνος fit και predict: 117.48736429214478 seconds\n",
            "              precision    recall  f1-score   support\n",
            "\n",
            "           0       0.44      0.40      0.42        10\n",
            "           1       0.75      0.78      0.77        23\n",
            "\n",
            "    accuracy                           0.67        33\n",
            "   macro avg       0.60      0.59      0.59        33\n",
            "weighted avg       0.66      0.67      0.66        33\n",
            "\n",
            "Pipeline(memory='tmp',\n",
            "         steps=[('selector', VarianceThreshold()), ('scaler', StandardScaler()),\n",
            "                ('pca', PCA(n_components=14)),\n",
            "                ('kNN',\n",
            "                 KNeighborsClassifier(metric='chebyshev', n_jobs=-1,\n",
            "                                      n_neighbors=1))])\n",
            "{'kNN__metric': 'chebyshev', 'kNN__n_neighbors': 1, 'kNN__weights': 'uniform', 'pca__n_components': 14}\n"
          ],
          "name": "stdout"
        },
        {
          "output_type": "display_data",
          "data": {
            "image/png": "[encoded data removed]",
            "text/plain": [
              "<Figure size 288x216 with 2 Axes>"
            ]
          },
          "metadata": {
            "tags": [],
            "needs_background": "light"
          }
        },
        {
          "output_type": "stream",
          "text": [
            "Precision score is  [0.44444444 0.75      ]\n",
            "Recall  score is  [0.4       0.7826087]\n",
            "Accuracy score is  0.6666666666666666\n"
          ],
          "name": "stdout"
        }
      ]
    },
    {
      "cell_type": "code",
      "metadata": {
        "colab": {
          "base_uri": "https://localhost:8080/",
          "height": 1000
        },
        "id": "1nDv7TqsB_-6",
        "outputId": "b8aa614a-0988-492b-d6d6-0f58876a4c46"
      },
      "source": [
        "clf = ['dc_uniform','dc_constant_0','dc_constant_1','dc_most_frequent','dc_stratified','GNB','KNN']\n",
        "\n",
        "print('Optimize F1_micro score:\\n')\n",
        "plot_scores(clf,f1_micro[0:7],'f1_micro')\n",
        "plot_scores(clf,f1_macro[0:7],'f1_macro')\n",
        "print('___________________________________________________________\\n\\n\\n\\n')\n",
        "\n",
        "print('Optimize F1_macro score:\\n')\n",
        "plot_scores(clf,f1_micro[7:14],'f1_micro')\n",
        "plot_scores(clf,f1_macro[7:14],'f1_macro')"
      ],
      "execution_count": null,
      "outputs": [
        {
          "output_type": "stream",
          "text": [
            "Optimize F1_micro score:\n",
            "\n"
          ],
          "name": "stdout"
        },
        {
          "output_type": "display_data",
          "data": {
            "image/png": "[encoded data removed]",
            "text/plain": [
              "<Figure size 676.8x302.4 with 1 Axes>"
            ]
          },
          "metadata": {
            "tags": [],
            "needs_background": "light"
          }
        },
        {
          "output_type": "display_data",
          "data": {
            "image/png": "[encoded data removed]",
            "text/plain": [
              "<Figure size 676.8x302.4 with 1 Axes>"
            ]
          },
          "metadata": {
            "tags": [],
            "needs_background": "light"
          }
        },
        {
          "output_type": "stream",
          "text": [
            "___________________________________________________________\n",
            "\n",
            "\n",
            "\n",
            "\n",
            "Optimize F1_macro score:\n",
            "\n"
          ],
          "name": "stdout"
        },
        {
          "output_type": "display_data",
          "data": {
            "image/png": "[encoded data removed]",
            "text/plain": [
              "<Figure size 676.8x302.4 with 1 Axes>"
            ]
          },
          "metadata": {
            "tags": [],
            "needs_background": "light"
          }
        },
        {
          "output_type": "display_data",
          "data": {
            "image/png": "[encoded data removed]",
            "text/plain": [
              "<Figure size 676.8x302.4 with 1 Axes>"
            ]
          },
          "metadata": {
            "tags": [],
            "needs_background": "light"
          }
        }
      ]
    },
    {
      "cell_type": "markdown",
      "metadata": {
        "id": "jH14fZ0_Koz9"
      },
      "source": [
        "####Συμπέρασμα:\n",
        "Απόό τα παραπάνω γραφήματα βλέπουμε ότι οι αποδόσεις των dummy classifiers δεν άλλαξαν καθόλου πράγμα αναμενόμενο αφού δεν χρησιμοποιούν τα δεδομένα που παρέχονται από το dataset αλλά κοιτούν μόνο τα labels αυτού. Παρ' όλα αυτά βλέπουμε σημαντική βελτίωση τόσο στον gnb όσο και στον knn. Ο gnb βελτιώθηκε χάρη στο preproccessing του dataset, ενώ ο knn χρησιμοποίησε και την υπερπαράμετρο των k neighbours."
      ]
    }
  ]
}